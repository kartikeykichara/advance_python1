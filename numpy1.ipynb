{
 "cells": [
  {
   "cell_type": "code",
   "execution_count": 2,
   "id": "2afc2f09-3785-4a08-bd6e-7289b965b660",
   "metadata": {},
   "outputs": [],
   "source": [
    "#Numpy ===> Numpy is an opensource library that is used for scientific calculation \n",
    "\n",
    "# why Numpy is better than list?\n",
    "# 1. Numpy has more advance functions as compare to list .\n",
    "# 2.Numpy is homogenous data type while list is heterogenous data type.\n",
    "# 3.Numpy takes less memory as compare to list .\n",
    "# 4.Numpy has less execution time as compare to list."
   ]
  },
  {
   "cell_type": "code",
   "execution_count": 3,
   "id": "72e0fa1c-2372-467a-be68-d3cb81db26d7",
   "metadata": {},
   "outputs": [
    {
     "name": "stdout",
     "output_type": "stream",
     "text": [
      "Requirement already satisfied: numpy in c:\\users\\anski\\anaconda3\\lib\\site-packages (1.26.4)\n"
     ]
    }
   ],
   "source": [
    "!pip install numpy"
   ]
  },
  {
   "cell_type": "code",
   "execution_count": 4,
   "id": "b79a4d4c-57e0-4ee7-b01d-4a43fa46c4c0",
   "metadata": {},
   "outputs": [],
   "source": [
    "import numpy as np"
   ]
  },
  {
   "cell_type": "code",
   "execution_count": 5,
   "id": "84967be0-bd34-4562-baf1-d41560b5c7f9",
   "metadata": {},
   "outputs": [
    {
     "data": {
      "text/plain": [
       "list"
      ]
     },
     "execution_count": 5,
     "metadata": {},
     "output_type": "execute_result"
    }
   ],
   "source": [
    "a=[1,34,89]\n",
    "type (a)"
   ]
  },
  {
   "cell_type": "code",
   "execution_count": 6,
   "id": "3922614e-5885-4c65-82c4-93456301d0b5",
   "metadata": {},
   "outputs": [
    {
     "data": {
      "text/plain": [
       "array([ 1, 34, 89])"
      ]
     },
     "execution_count": 6,
     "metadata": {},
     "output_type": "execute_result"
    }
   ],
   "source": [
    "b=np.array(a)\n",
    "b"
   ]
  },
  {
   "cell_type": "code",
   "execution_count": 7,
   "id": "61677e0b-c11c-4b50-966d-60dedfd715a8",
   "metadata": {},
   "outputs": [
    {
     "data": {
      "text/plain": [
       "array([[1, 2, 3],\n",
       "       [4, 5, 6],\n",
       "       [7, 8, 9]])"
      ]
     },
     "execution_count": 7,
     "metadata": {},
     "output_type": "execute_result"
    }
   ],
   "source": [
    "a=[[1,2,3],[4,5,6],[7,8,9]]\n",
    "b=np.array(a)\n",
    "b"
   ]
  },
  {
   "cell_type": "code",
   "execution_count": 8,
   "id": "da54df0f-18ca-417b-bb74-9faffc2dd9ab",
   "metadata": {},
   "outputs": [
    {
     "name": "stdout",
     "output_type": "stream",
     "text": [
      "total rowS  and column : (3, 3)\n",
      "total element: 9\n",
      "dimension of an array : 2\n"
     ]
    }
   ],
   "source": [
    "print(\"total rowS  and column :\",b.shape)\n",
    "print(\"total element:\",b.size)\n",
    "print(\"dimension of an array :\",b.ndim)"
   ]
  },
  {
   "cell_type": "markdown",
   "id": "977f1086-2ebf-4e09-a419-cd28c4960351",
   "metadata": {},
   "source": [
    "# How can we create a user defined array?"
   ]
  },
  {
   "cell_type": "code",
   "execution_count": 11,
   "id": "6962fc64-35f1-46cd-834f-8e389e29e1c4",
   "metadata": {},
   "outputs": [
    {
     "name": "stdin",
     "output_type": "stream",
     "text": [
      "enter the size 3\n",
      "enter item 45\n",
      "enter item 12\n",
      "enter item 6\n"
     ]
    },
    {
     "data": {
      "text/plain": [
       "array([45, 12,  6])"
      ]
     },
     "execution_count": 11,
     "metadata": {},
     "output_type": "execute_result"
    }
   ],
   "source": [
    "a =[]\n",
    "size=int(input(\"enter the size\"))\n",
    "for i in range(size):\n",
    "    val= int(input(\"enter item\"))\n",
    "    a.append(val)\n",
    "b=np.array(a)\n",
    "b"
   ]
  },
  {
   "cell_type": "markdown",
   "id": "1b76c6d7-0446-447b-816c-c7dbc7f1e259",
   "metadata": {},
   "source": [
    "# Pre defined functions in numpy\n"
   ]
  },
  {
   "cell_type": "code",
   "execution_count": 12,
   "id": "7086a4a0-045d-4261-958a-6e41006855b6",
   "metadata": {},
   "outputs": [],
   "source": [
    "# 1.matrix ----->rows , column \n",
    "# 2.in matrix -----> n(rows)=n(columns)----> symmatric matrix ,n(r)!=n(c)---->AS\n",
    "# 3.diagonal elements ----> [(1,1),(2,2),(3,3),........(n,n)]\n",
    "# 4.images-------> (0-255)px ---->  Normalize ----bua->(0,1)\n",
    "# 5.optimization-----> starting weights(m),bias(b)randomly select ----> numpy fuctions"
   ]
  },
  {
   "cell_type": "code",
   "execution_count": 18,
   "id": "5d6fbb45-e1ab-4081-82bc-94b2d145cf3c",
   "metadata": {},
   "outputs": [],
   "source": [
    "# 1.Zeroes ()------> it will create an array in which all the elements are 0\n"
   ]
  },
  {
   "cell_type": "code",
   "execution_count": 16,
   "id": "71d19371-5a47-4cea-b0ff-57f658f93b5c",
   "metadata": {},
   "outputs": [
    {
     "data": {
      "text/plain": [
       "array([0., 0., 0.])"
      ]
     },
     "execution_count": 16,
     "metadata": {},
     "output_type": "execute_result"
    }
   ],
   "source": [
    "a=np.zeros(3)\n",
    "a"
   ]
  },
  {
   "cell_type": "code",
   "execution_count": 17,
   "id": "f8fe44ac-a061-44e7-ab95-a81712e5df65",
   "metadata": {},
   "outputs": [
    {
     "data": {
      "text/plain": [
       "array([[0., 0., 0.],\n",
       "       [0., 0., 0.]])"
      ]
     },
     "execution_count": 17,
     "metadata": {},
     "output_type": "execute_result"
    }
   ],
   "source": [
    "b=np.zeros((2,3))\n",
    "b"
   ]
  },
  {
   "cell_type": "code",
   "execution_count": 19,
   "id": "c2e07f64-1c2e-47f6-a2a7-fee14c303519",
   "metadata": {},
   "outputs": [],
   "source": [
    "# 2. ones ()----> it will create an array in which all the element are 1."
   ]
  },
  {
   "cell_type": "code",
   "execution_count": 20,
   "id": "e8108965-c636-441e-9eb4-ed4aa6f6729b",
   "metadata": {},
   "outputs": [
    {
     "data": {
      "text/plain": [
       "array([1., 1., 1., 1.])"
      ]
     },
     "execution_count": 20,
     "metadata": {},
     "output_type": "execute_result"
    }
   ],
   "source": [
    "a=np.ones(4)\n",
    "a"
   ]
  },
  {
   "cell_type": "code",
   "execution_count": 23,
   "id": "3cfeeaf9-9ee5-42e9-a3af-dd858f8f8f7b",
   "metadata": {},
   "outputs": [
    {
     "data": {
      "text/plain": [
       "array([[1., 1., 1.],\n",
       "       [1., 1., 1.]])"
      ]
     },
     "execution_count": 23,
     "metadata": {},
     "output_type": "execute_result"
    }
   ],
   "source": [
    "a=np.ones((2,3))\n",
    "a"
   ]
  },
  {
   "cell_type": "code",
   "execution_count": 25,
   "id": "9a1f4480-26a2-4fbd-8379-85764d2585f1",
   "metadata": {},
   "outputs": [],
   "source": [
    "# 3.eye()----> it will create an array in which diagonal position element are 1 and rest all are 0"
   ]
  },
  {
   "cell_type": "code",
   "execution_count": 30,
   "id": "1fb02924-3101-4967-a930-9cb628e544ff",
   "metadata": {},
   "outputs": [
    {
     "data": {
      "text/plain": [
       "array([[1., 0., 0., 0.],\n",
       "       [0., 1., 0., 0.],\n",
       "       [0., 0., 1., 0.]])"
      ]
     },
     "execution_count": 30,
     "metadata": {},
     "output_type": "execute_result"
    }
   ],
   "source": [
    "np.eye(3,4)#asymmatric matrix"
   ]
  },
  {
   "cell_type": "code",
   "execution_count": 29,
   "id": "0f39afc5-e119-4ff3-b341-09dc23b6c7cd",
   "metadata": {},
   "outputs": [
    {
     "data": {
      "text/plain": [
       "array([[1., 0., 0.],\n",
       "       [0., 1., 0.],\n",
       "       [0., 0., 1.]])"
      ]
     },
     "execution_count": 29,
     "metadata": {},
     "output_type": "execute_result"
    }
   ],
   "source": [
    "np.eye(3) #symmatric matrix"
   ]
  },
  {
   "cell_type": "code",
   "execution_count": 28,
   "id": "f6fac313-b90e-476e-8148-20aa68ddd7f0",
   "metadata": {},
   "outputs": [],
   "source": [
    "# 4.diag()----> using diag() , we can pass our custom array an diagonal position"
   ]
  },
  {
   "cell_type": "code",
   "execution_count": 31,
   "id": "46fdcb82-3a91-4c45-a03b-44bb7b0d5307",
   "metadata": {},
   "outputs": [
    {
     "data": {
      "text/plain": [
       "array([[ 1,  0,  0,  0],\n",
       "       [ 0, 45,  0,  0],\n",
       "       [ 0,  0, 78,  0],\n",
       "       [ 0,  0,  0, 90]])"
      ]
     },
     "execution_count": 31,
     "metadata": {},
     "output_type": "execute_result"
    }
   ],
   "source": [
    "a=np.diag([1,45,78,90])\n",
    "a"
   ]
  },
  {
   "cell_type": "code",
   "execution_count": 32,
   "id": "905a9248-05d6-4565-8338-aa75800fe17b",
   "metadata": {},
   "outputs": [],
   "source": [
    "# 5.random module \n",
    "# (a) randint(min_range,max_range,total_numbers)"
   ]
  },
  {
   "cell_type": "code",
   "execution_count": 33,
   "id": "38ec4760-6576-4505-a9b2-d4ec414be01e",
   "metadata": {},
   "outputs": [
    {
     "data": {
      "text/plain": [
       "array([7, 6, 7, 9])"
      ]
     },
     "execution_count": 33,
     "metadata": {},
     "output_type": "execute_result"
    }
   ],
   "source": [
    "np.random.randint(1,10,4)"
   ]
  },
  {
   "cell_type": "code",
   "execution_count": null,
   "id": "d1de5790-8547-459b-9778-17cdd13ac0ea",
   "metadata": {},
   "outputs": [],
   "source": [
    "# (b) rand(total_numbers)----> it will return an array form 0-1"
   ]
  },
  {
   "cell_type": "code",
   "execution_count": 34,
   "id": "3d1a1012-192d-4431-9944-5f34ad5a7184",
   "metadata": {},
   "outputs": [
    {
     "data": {
      "text/plain": [
       "array([0.2980827 , 0.43728541, 0.58727092, 0.47949658, 0.05241284])"
      ]
     },
     "execution_count": 34,
     "metadata": {},
     "output_type": "execute_result"
    }
   ],
   "source": [
    "a=np.random.rand(5)\n",
    "a"
   ]
  },
  {
   "cell_type": "code",
   "execution_count": 35,
   "id": "37c7646d-5e72-4f5a-aac9-28ed1245d5ad",
   "metadata": {},
   "outputs": [],
   "source": [
    "#seed ()    --->  it will fix the data when it is generated"
   ]
  },
  {
   "cell_type": "code",
   "execution_count": 39,
   "id": "9fc63d30-8b9e-476e-af82-e40d0365952b",
   "metadata": {},
   "outputs": [
    {
     "data": {
      "text/plain": [
       "array([6, 6, 5, 8])"
      ]
     },
     "execution_count": 39,
     "metadata": {},
     "output_type": "execute_result"
    }
   ],
   "source": [
    "np.random.seed(30)\n",
    "a=np.random.randint(1,10,4)\n",
    "a"
   ]
  },
  {
   "cell_type": "markdown",
   "id": "1c327c8a-c99d-4eec-b9a7-3490672d5376",
   "metadata": {},
   "source": [
    "# View Vs Copy\n"
   ]
  },
  {
   "cell_type": "code",
   "execution_count": 42,
   "id": "5da86946-7a1c-4174-a935-a29384519f3d",
   "metadata": {},
   "outputs": [
    {
     "data": {
      "text/plain": [
       "array([10, 20,  0,  0,  0, 70, 80])"
      ]
     },
     "execution_count": 42,
     "metadata": {},
     "output_type": "execute_result"
    }
   ],
   "source": [
    "a=np.array([10,20,30,40,50,70,80])\n",
    "b=a[2:5]\n",
    "b[:]=0\n",
    "b\n",
    "a"
   ]
  },
  {
   "cell_type": "code",
   "execution_count": 43,
   "id": "aa607378-c899-4856-891c-9c5246783ec5",
   "metadata": {},
   "outputs": [
    {
     "data": {
      "text/plain": [
       "array([10, 20, 30, 40, 50, 70, 80])"
      ]
     },
     "execution_count": 43,
     "metadata": {},
     "output_type": "execute_result"
    }
   ],
   "source": [
    "a=np.array([10,20,30,40,50,70,80])\n",
    "b=a[2:5].copy()\n",
    "b[:]=0\n",
    "b\n",
    "a"
   ]
  },
  {
   "cell_type": "markdown",
   "id": "f95c9da7-1679-4420-9173-47878d6d2bff",
   "metadata": {},
   "source": [
    "# reshaping the array"
   ]
  },
  {
   "cell_type": "code",
   "execution_count": 45,
   "id": "450908a7-2318-4a46-a1fe-980f10054dff",
   "metadata": {},
   "outputs": [],
   "source": [
    "# n(rows)*n(column)=n(total elements)"
   ]
  },
  {
   "cell_type": "code",
   "execution_count": 46,
   "id": "68a206fa-6a07-439d-acd2-16fae34f3721",
   "metadata": {},
   "outputs": [
    {
     "data": {
      "text/plain": [
       "array([ 3, 54, 18, 47,  4, 42,  8, 66, 50, 46, 62, 36])"
      ]
     },
     "execution_count": 46,
     "metadata": {},
     "output_type": "execute_result"
    }
   ],
   "source": [
    "a=np.random.randint(1,100,12)\n",
    "a"
   ]
  },
  {
   "cell_type": "code",
   "execution_count": 47,
   "id": "968d96ab-e440-40c8-bc02-90f54d2d2021",
   "metadata": {},
   "outputs": [
    {
     "data": {
      "text/plain": [
       "array([[ 3, 54, 18, 47,  4, 42],\n",
       "       [ 8, 66, 50, 46, 62, 36]])"
      ]
     },
     "execution_count": 47,
     "metadata": {},
     "output_type": "execute_result"
    }
   ],
   "source": [
    "a.reshape(2,6)"
   ]
  },
  {
   "cell_type": "code",
   "execution_count": 48,
   "id": "bad932b6-11a9-4242-96e1-f4833c7fea03",
   "metadata": {},
   "outputs": [
    {
     "data": {
      "text/plain": [
       "array([[ 3, 54, 18, 47],\n",
       "       [ 4, 42,  8, 66],\n",
       "       [50, 46, 62, 36]])"
      ]
     },
     "execution_count": 48,
     "metadata": {},
     "output_type": "execute_result"
    }
   ],
   "source": [
    "a.reshape(3,4)"
   ]
  },
  {
   "cell_type": "code",
   "execution_count": 54,
   "id": "c048bad5-ef29-4fd5-ab32-3fd9f12cecf6",
   "metadata": {},
   "outputs": [
    {
     "ename": "ValueError",
     "evalue": "cannot reshape array of size 12 into shape (2,2)",
     "output_type": "error",
     "traceback": [
      "\u001b[1;31m---------------------------------------------------------------------------\u001b[0m",
      "\u001b[1;31mValueError\u001b[0m                                Traceback (most recent call last)",
      "Cell \u001b[1;32mIn[54], line 1\u001b[0m\n\u001b[1;32m----> 1\u001b[0m a\u001b[38;5;241m.\u001b[39mreshape(\u001b[38;5;241m2\u001b[39m,\u001b[38;5;241m2\u001b[39m)\n",
      "\u001b[1;31mValueError\u001b[0m: cannot reshape array of size 12 into shape (2,2)"
     ]
    }
   ],
   "source": [
    "a.reshape(2,2)"
   ]
  },
  {
   "cell_type": "code",
   "execution_count": 55,
   "id": "4ebd18b7-79bc-4b8b-9b62-4eabe35836a9",
   "metadata": {},
   "outputs": [],
   "source": [
    "# 1-60 total_element 36"
   ]
  },
  {
   "cell_type": "markdown",
   "id": "ab77899a-fa0d-4868-847b-26d74f1ba3b6",
   "metadata": {},
   "source": [
    "# conditional selection in nump"
   ]
  },
  {
   "cell_type": "code",
   "execution_count": 57,
   "id": "3854618d-b8e0-4f04-adbc-17d6d5269ab4",
   "metadata": {},
   "outputs": [
    {
     "data": {
      "text/plain": [
       "array([ 1,  2,  3,  4,  5,  6,  7,  8,  9, 10, 11, 12, 13, 14])"
      ]
     },
     "execution_count": 57,
     "metadata": {},
     "output_type": "execute_result"
    }
   ],
   "source": [
    "a=np.arange(1,15)\n",
    "a"
   ]
  },
  {
   "cell_type": "code",
   "execution_count": 58,
   "id": "144d6685-acda-4bdb-812a-7043b090da65",
   "metadata": {},
   "outputs": [
    {
     "data": {
      "text/plain": [
       "array([11, 12, 13, 14])"
      ]
     },
     "execution_count": 58,
     "metadata": {},
     "output_type": "execute_result"
    }
   ],
   "source": [
    "b=a>10\n",
    "a[b]"
   ]
  },
  {
   "cell_type": "code",
   "execution_count": 59,
   "id": "7aec6acb-9aa9-433e-8eb3-aaf62c857a0f",
   "metadata": {},
   "outputs": [
    {
     "data": {
      "text/plain": [
       "array([False, False, False, False, False, False, False, False, False,\n",
       "       False,  True,  True,  True,  True])"
      ]
     },
     "execution_count": 59,
     "metadata": {},
     "output_type": "execute_result"
    }
   ],
   "source": [
    "a>10"
   ]
  },
  {
   "cell_type": "code",
   "execution_count": 63,
   "id": "24a7cb86-b24a-46b3-b1f2-55371cf3d1fe",
   "metadata": {},
   "outputs": [
    {
     "data": {
      "text/plain": [
       "array([[1, 2],\n",
       "       [3, 4]])"
      ]
     },
     "execution_count": 63,
     "metadata": {},
     "output_type": "execute_result"
    }
   ],
   "source": [
    "a=np.arange(1,5).reshape(2,2)\n",
    "a"
   ]
  },
  {
   "cell_type": "code",
   "execution_count": 67,
   "id": "c7f65239-4ff3-4da5-acec-e81ad487337c",
   "metadata": {},
   "outputs": [
    {
     "data": {
      "text/plain": [
       "array([[5, 6],\n",
       "       [7, 8]])"
      ]
     },
     "execution_count": 67,
     "metadata": {},
     "output_type": "execute_result"
    }
   ],
   "source": [
    "a=np.arange(5,9).reshape(2,2)\n",
    "a"
   ]
  },
  {
   "cell_type": "code",
   "execution_count": 69,
   "id": "e509b23c-23c2-4f23-8930-792ee69cb0ef",
   "metadata": {},
   "outputs": [
    {
     "ename": "ValueError",
     "evalue": "operands could not be broadcast together with shapes (2,2) (14,) ",
     "output_type": "error",
     "traceback": [
      "\u001b[1;31m---------------------------------------------------------------------------\u001b[0m",
      "\u001b[1;31mValueError\u001b[0m                                Traceback (most recent call last)",
      "Cell \u001b[1;32mIn[69], line 1\u001b[0m\n\u001b[1;32m----> 1\u001b[0m a\u001b[38;5;241m+\u001b[39mb\n",
      "\u001b[1;31mValueError\u001b[0m: operands could not be broadcast together with shapes (2,2) (14,) "
     ]
    }
   ],
   "source": [
    "a+b ### 1+5=6 ,2+6=8,3+7=1-,4+8=12"
   ]
  },
  {
   "cell_type": "code",
   "execution_count": 70,
   "id": "43b1d106-28e5-4b6e-839b-2fb904bc5790",
   "metadata": {},
   "outputs": [
    {
     "ename": "ValueError",
     "evalue": "operands could not be broadcast together with shapes (2,2) (14,) ",
     "output_type": "error",
     "traceback": [
      "\u001b[1;31m---------------------------------------------------------------------------\u001b[0m",
      "\u001b[1;31mValueError\u001b[0m                                Traceback (most recent call last)",
      "Cell \u001b[1;32mIn[70], line 1\u001b[0m\n\u001b[1;32m----> 1\u001b[0m a\u001b[38;5;241m-\u001b[39mb\n",
      "\u001b[1;31mValueError\u001b[0m: operands could not be broadcast together with shapes (2,2) (14,) "
     ]
    }
   ],
   "source": [
    "a-b"
   ]
  },
  {
   "cell_type": "code",
   "execution_count": 73,
   "id": "3d17849c-59bb-49fa-8eff-b54be1a2e747",
   "metadata": {},
   "outputs": [
    {
     "ename": "ValueError",
     "evalue": "shapes (2,2) and (14,) not aligned: 2 (dim 1) != 14 (dim 0)",
     "output_type": "error",
     "traceback": [
      "\u001b[1;31m---------------------------------------------------------------------------\u001b[0m",
      "\u001b[1;31mValueError\u001b[0m                                Traceback (most recent call last)",
      "Cell \u001b[1;32mIn[73], line 1\u001b[0m\n\u001b[1;32m----> 1\u001b[0m a\u001b[38;5;241m.\u001b[39mdot(b)\n",
      "\u001b[1;31mValueError\u001b[0m: shapes (2,2) and (14,) not aligned: 2 (dim 1) != 14 (dim 0)"
     ]
    }
   ],
   "source": [
    "a.dot(b)\n"
   ]
  },
  {
   "cell_type": "code",
   "execution_count": 72,
   "id": "1ca3656a-59ec-4c3c-85c6-c1d5acd89829",
   "metadata": {},
   "outputs": [
    {
     "ename": "ValueError",
     "evalue": "operands could not be broadcast together with shapes (2,2) (14,) ",
     "output_type": "error",
     "traceback": [
      "\u001b[1;31m---------------------------------------------------------------------------\u001b[0m",
      "\u001b[1;31mValueError\u001b[0m                                Traceback (most recent call last)",
      "Cell \u001b[1;32mIn[72], line 1\u001b[0m\n\u001b[1;32m----> 1\u001b[0m a\u001b[38;5;241m/\u001b[39mb\n",
      "\u001b[1;31mValueError\u001b[0m: operands could not be broadcast together with shapes (2,2) (14,) "
     ]
    }
   ],
   "source": [
    "a/b"
   ]
  },
  {
   "cell_type": "code",
   "execution_count": 75,
   "id": "b3bc6ae3-67ba-465f-bc28-7be36c8547a1",
   "metadata": {},
   "outputs": [],
   "source": [
    "# 6. linespace () ---->it will create an array in which gap two values will be equal"
   ]
  },
  {
   "cell_type": "code",
   "execution_count": null,
   "id": "3a3aabc4-d592-45f6-b3f2-3819cfd97f10",
   "metadata": {},
   "outputs": [],
   "source": [
    "a=np.linespace(1,2,5"
   ]
  }
 ],
 "metadata": {
  "kernelspec": {
   "display_name": "Python 3 (ipykernel)",
   "language": "python",
   "name": "python3"
  },
  "language_info": {
   "codemirror_mode": {
    "name": "ipython",
    "version": 3
   },
   "file_extension": ".py",
   "mimetype": "text/x-python",
   "name": "python",
   "nbconvert_exporter": "python",
   "pygments_lexer": "ipython3",
   "version": "3.11.7"
  }
 },
 "nbformat": 4,
 "nbformat_minor": 5
}
