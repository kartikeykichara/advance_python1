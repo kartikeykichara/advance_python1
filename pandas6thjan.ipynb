{
 "cells": [
  {
   "cell_type": "code",
   "execution_count": 1,
   "id": "2b246b2d-eb72-4eef-912c-a5d4b06c9f11",
   "metadata": {},
   "outputs": [],
   "source": [
    "import numpy as np \n",
    "import pandas as pd"
   ]
  },
  {
   "cell_type": "code",
   "execution_count": 2,
   "id": "a8d48cea-0736-415b-a677-3e434693f2ad",
   "metadata": {},
   "outputs": [
    {
     "data": {
      "text/plain": [
       "'\\nClass----> x(input) + y(targetdata)\\nx(input) ----> x_train + x_test\\ny(target) ---->y_train + y_test\\n\\nmachine(x_train,y_train) ---> machine(x_test)---->output ????Prediction(y_pred)\\nactual_Data(y_test)\\n\\ndf=2+2 =4\\n3+2=5\\n5+3=8\\n\\nx(2+2, 3+2 ,5+3)\\ny(4,5,8)\\n\\nx_train(2+2,3+2)\\ny_train(4,5)\\nmachine(x_train,y_train)\\nmachine ---> predict(9)\\nbut actual_output=8 ....in this we check performance of machine\\n'"
      ]
     },
     "execution_count": 2,
     "metadata": {},
     "output_type": "execute_result"
    }
   ],
   "source": [
    "#DATA Dividation\n",
    "\n",
    "'''\n",
    "Class----> x(input) + y(targetdata)\n",
    "x(input) ----> x_train + x_test\n",
    "y(target) ---->y_train + y_test\n",
    "\n",
    "machine(x_train,y_train) ---> machine(x_test)---->output ????Prediction(y_pred)\n",
    "actual_Data(y_test)\n",
    "\n",
    "df=2+2 =4\n",
    "3+2=5\n",
    "5+3=8\n",
    "\n",
    "x(2+2, 3+2 ,5+3)\n",
    "y(4,5,8)\n",
    "\n",
    "x_train(2+2,3+2)\n",
    "y_train(4,5)\n",
    "machine(x_train,y_train)\n",
    "machine ---> predict(9)\n",
    "but actual_output=8 ....in this we check performance of machine\n",
    "'''"
   ]
  },
  {
   "cell_type": "code",
   "execution_count": 3,
   "id": "399e7152-3fa8-4b45-8e22-bb845cfd0bc5",
   "metadata": {},
   "outputs": [],
   "source": [
    "df=pd.read_csv(\"C:\\\\Users\\\\anski\\\\Desktop\\\\kartikey_kichara\\\\placement.csv\")"
   ]
  },
  {
   "cell_type": "code",
   "execution_count": 4,
   "id": "928bac4d-16c1-4db1-a236-614f5a2a9bd0",
   "metadata": {},
   "outputs": [
    {
     "data": {
      "text/html": [
       "<div>\n",
       "<style scoped>\n",
       "    .dataframe tbody tr th:only-of-type {\n",
       "        vertical-align: middle;\n",
       "    }\n",
       "\n",
       "    .dataframe tbody tr th {\n",
       "        vertical-align: top;\n",
       "    }\n",
       "\n",
       "    .dataframe thead th {\n",
       "        text-align: right;\n",
       "    }\n",
       "</style>\n",
       "<table border=\"1\" class=\"dataframe\">\n",
       "  <thead>\n",
       "    <tr style=\"text-align: right;\">\n",
       "      <th></th>\n",
       "      <th>cgpa</th>\n",
       "      <th>resume_score</th>\n",
       "      <th>placed</th>\n",
       "    </tr>\n",
       "  </thead>\n",
       "  <tbody>\n",
       "    <tr>\n",
       "      <th>0</th>\n",
       "      <td>8.14</td>\n",
       "      <td>6.52</td>\n",
       "      <td>1</td>\n",
       "    </tr>\n",
       "    <tr>\n",
       "      <th>1</th>\n",
       "      <td>6.17</td>\n",
       "      <td>5.17</td>\n",
       "      <td>0</td>\n",
       "    </tr>\n",
       "    <tr>\n",
       "      <th>2</th>\n",
       "      <td>8.27</td>\n",
       "      <td>8.86</td>\n",
       "      <td>1</td>\n",
       "    </tr>\n",
       "  </tbody>\n",
       "</table>\n",
       "</div>"
      ],
      "text/plain": [
       "   cgpa  resume_score  placed\n",
       "0  8.14          6.52       1\n",
       "1  6.17          5.17       0\n",
       "2  8.27          8.86       1"
      ]
     },
     "execution_count": 4,
     "metadata": {},
     "output_type": "execute_result"
    }
   ],
   "source": [
    "df.head(3)"
   ]
  },
  {
   "cell_type": "code",
   "execution_count": 6,
   "id": "c243fa1c-bafd-43d9-964a-3b75657f8567",
   "metadata": {},
   "outputs": [
    {
     "data": {
      "text/plain": [
       "(100, 3)"
      ]
     },
     "execution_count": 6,
     "metadata": {},
     "output_type": "execute_result"
    }
   ],
   "source": [
    "df.shape"
   ]
  },
  {
   "cell_type": "code",
   "execution_count": 7,
   "id": "aae49f39-c4e7-4650-a016-560f4203816c",
   "metadata": {},
   "outputs": [],
   "source": [
    "x=df.drop(columns=['placed']) ##input columns\n",
    "#x"
   ]
  },
  {
   "cell_type": "code",
   "execution_count": 8,
   "id": "d48361ea-baf1-4581-8dba-6f1d621f6cb3",
   "metadata": {},
   "outputs": [],
   "source": [
    "y = df['placed']   ##target column\n",
    "#y"
   ]
  },
  {
   "cell_type": "code",
   "execution_count": 9,
   "id": "14644fa6-606a-4c80-823b-0acadff75757",
   "metadata": {},
   "outputs": [],
   "source": [
    "from sklearn.model_selection import train_test_split"
   ]
  },
  {
   "cell_type": "code",
   "execution_count": 10,
   "id": "d745a33a-1142-48fa-9f91-e0b149481214",
   "metadata": {},
   "outputs": [],
   "source": [
    "x_train,x_test, y_train, y_test = train_test_split(x,\n",
    "                                                   y,\n",
    "                                                   test_size = 0.2,\n",
    "                                                   random_state = 42)"
   ]
  },
  {
   "cell_type": "code",
   "execution_count": 11,
   "id": "a4294c4b-37ad-4df5-b761-e85461a990a3",
   "metadata": {},
   "outputs": [
    {
     "name": "stdout",
     "output_type": "stream",
     "text": [
      "total dataframe shape: (100, 3)\n",
      "Input data shape: (100, 2)\n",
      "x_train data shape: (80, 2)\n",
      "x_test data shape: (20, 2)\n",
      "--------------------------------\n",
      "y data shape (100,)\n",
      "y_train data shape: (80,)\n",
      "y_test data shape: (20,)\n"
     ]
    }
   ],
   "source": [
    "print(\"total dataframe shape:\",df.shape)\n",
    "print(\"Input data shape:\",x.shape)\n",
    "print(\"x_train data shape:\",x_train.shape)\n",
    "print(\"x_test data shape:\",x_test.shape)\n",
    "print(\"--------------------------------\")\n",
    "print(\"y data shape\",y.shape)\n",
    "print(\"y_train data shape:\",y_train.shape)\n",
    "print(\"y_test data shape:\",y_test.shape)"
   ]
  },
  {
   "cell_type": "code",
   "execution_count": 12,
   "id": "38926879-32db-41d6-8880-78e0b5ef22ef",
   "metadata": {},
   "outputs": [],
   "source": [
    "#df(100,3) = x(100,2) + y(100,1)\n",
    "#x(100,2) = x_train(80,2) + x_test(20,2)\n",
    "#(100,1) = y_train(80,1) + y_test(20,1)"
   ]
  },
  {
   "cell_type": "code",
   "execution_count": 13,
   "id": "ed12dc5f-dc4c-49fa-8501-bc066555dc85",
   "metadata": {},
   "outputs": [],
   "source": [
    "df=pd.read_csv(\"C:\\\\Users\\\\anski\\\\Desktop\\\\kartikey_kichara\\\\covid_toy.csv\")"
   ]
  },
  {
   "cell_type": "code",
   "execution_count": 14,
   "id": "ae3ccfda-e6bc-4dac-9de6-06cbb4746d12",
   "metadata": {},
   "outputs": [
    {
     "data": {
      "text/html": [
       "<div>\n",
       "<style scoped>\n",
       "    .dataframe tbody tr th:only-of-type {\n",
       "        vertical-align: middle;\n",
       "    }\n",
       "\n",
       "    .dataframe tbody tr th {\n",
       "        vertical-align: top;\n",
       "    }\n",
       "\n",
       "    .dataframe thead th {\n",
       "        text-align: right;\n",
       "    }\n",
       "</style>\n",
       "<table border=\"1\" class=\"dataframe\">\n",
       "  <thead>\n",
       "    <tr style=\"text-align: right;\">\n",
       "      <th></th>\n",
       "      <th>age</th>\n",
       "      <th>gender</th>\n",
       "      <th>fever</th>\n",
       "      <th>cough</th>\n",
       "      <th>city</th>\n",
       "      <th>has_covid</th>\n",
       "    </tr>\n",
       "  </thead>\n",
       "  <tbody>\n",
       "    <tr>\n",
       "      <th>0</th>\n",
       "      <td>60</td>\n",
       "      <td>Male</td>\n",
       "      <td>103.0</td>\n",
       "      <td>Mild</td>\n",
       "      <td>Kolkata</td>\n",
       "      <td>No</td>\n",
       "    </tr>\n",
       "    <tr>\n",
       "      <th>1</th>\n",
       "      <td>27</td>\n",
       "      <td>Male</td>\n",
       "      <td>100.0</td>\n",
       "      <td>Mild</td>\n",
       "      <td>Delhi</td>\n",
       "      <td>Yes</td>\n",
       "    </tr>\n",
       "    <tr>\n",
       "      <th>2</th>\n",
       "      <td>42</td>\n",
       "      <td>Male</td>\n",
       "      <td>101.0</td>\n",
       "      <td>Mild</td>\n",
       "      <td>Delhi</td>\n",
       "      <td>No</td>\n",
       "    </tr>\n",
       "    <tr>\n",
       "      <th>3</th>\n",
       "      <td>31</td>\n",
       "      <td>Female</td>\n",
       "      <td>98.0</td>\n",
       "      <td>Mild</td>\n",
       "      <td>Kolkata</td>\n",
       "      <td>No</td>\n",
       "    </tr>\n",
       "    <tr>\n",
       "      <th>4</th>\n",
       "      <td>65</td>\n",
       "      <td>Female</td>\n",
       "      <td>101.0</td>\n",
       "      <td>Mild</td>\n",
       "      <td>Mumbai</td>\n",
       "      <td>No</td>\n",
       "    </tr>\n",
       "  </tbody>\n",
       "</table>\n",
       "</div>"
      ],
      "text/plain": [
       "   age  gender  fever cough     city has_covid\n",
       "0   60    Male  103.0  Mild  Kolkata        No\n",
       "1   27    Male  100.0  Mild    Delhi       Yes\n",
       "2   42    Male  101.0  Mild    Delhi        No\n",
       "3   31  Female   98.0  Mild  Kolkata        No\n",
       "4   65  Female  101.0  Mild   Mumbai        No"
      ]
     },
     "execution_count": 14,
     "metadata": {},
     "output_type": "execute_result"
    }
   ],
   "source": [
    "df.head()"
   ]
  },
  {
   "cell_type": "code",
   "execution_count": 15,
   "id": "2a18f10e-983e-4298-bfa0-7abab6770b85",
   "metadata": {},
   "outputs": [
    {
     "data": {
      "text/plain": [
       "age           0\n",
       "gender        0\n",
       "fever        10\n",
       "cough         0\n",
       "city          0\n",
       "has_covid     0\n",
       "dtype: int64"
      ]
     },
     "execution_count": 15,
     "metadata": {},
     "output_type": "execute_result"
    }
   ],
   "source": [
    "df.isnull().sum()"
   ]
  },
  {
   "cell_type": "code",
   "execution_count": 16,
   "id": "3ae46c20-ec25-4edb-90cc-cc64284fe296",
   "metadata": {},
   "outputs": [],
   "source": [
    "df=df.dropna()"
   ]
  },
  {
   "cell_type": "code",
   "execution_count": 17,
   "id": "9c0c82d9-9cd4-47d0-a240-9fae30ba758e",
   "metadata": {},
   "outputs": [
    {
     "data": {
      "text/plain": [
       "age          0\n",
       "gender       0\n",
       "fever        0\n",
       "cough        0\n",
       "city         0\n",
       "has_covid    0\n",
       "dtype: int64"
      ]
     },
     "execution_count": 17,
     "metadata": {},
     "output_type": "execute_result"
    }
   ],
   "source": [
    "df.isnull().sum()"
   ]
  },
  {
   "cell_type": "code",
   "execution_count": 18,
   "id": "433569c0-21d3-4ec5-aade-e5bb46e49ddd",
   "metadata": {},
   "outputs": [
    {
     "data": {
      "text/plain": [
       "(90, 6)"
      ]
     },
     "execution_count": 18,
     "metadata": {},
     "output_type": "execute_result"
    }
   ],
   "source": [
    "df.shape"
   ]
  },
  {
   "cell_type": "code",
   "execution_count": 19,
   "id": "b81a4b79-80db-4f05-99c0-78eba1fe9f59",
   "metadata": {},
   "outputs": [],
   "source": [
    "from sklearn.model_selection import train_test_split"
   ]
  },
  {
   "cell_type": "code",
   "execution_count": 20,
   "id": "68080586-3320-41ea-b10f-7fb8ee293661",
   "metadata": {},
   "outputs": [],
   "source": [
    "x=df.drop(columns=['has_covid']) ##input columns\n",
    "#x"
   ]
  },
  {
   "cell_type": "code",
   "execution_count": 21,
   "id": "35da7604-3403-43cf-bb8a-2179592d9ca1",
   "metadata": {},
   "outputs": [
    {
     "data": {
      "text/plain": [
       "(90,)"
      ]
     },
     "execution_count": 21,
     "metadata": {},
     "output_type": "execute_result"
    }
   ],
   "source": [
    "y=df['has_covid']\n",
    "y.shape"
   ]
  },
  {
   "cell_type": "code",
   "execution_count": 22,
   "id": "00b3227b-2cf1-4172-b78e-acc0e3622a34",
   "metadata": {},
   "outputs": [],
   "source": [
    "from sklearn.model_selection import train_test_split"
   ]
  },
  {
   "cell_type": "code",
   "execution_count": 23,
   "id": "952ad314-a588-4ec9-9fb4-42071858f11b",
   "metadata": {},
   "outputs": [],
   "source": [
    "x_train,x_test, y_train, y_test = train_test_split(x,\n",
    "                                                   y,\n",
    "                                                   test_size = 0.2,\n",
    "                                                   random_state = 42)"
   ]
  },
  {
   "cell_type": "code",
   "execution_count": 24,
   "id": "97097c5b-a9bb-4cd5-9197-dc05adc06075",
   "metadata": {},
   "outputs": [
    {
     "name": "stdout",
     "output_type": "stream",
     "text": [
      "total dataframe shape: (90, 6)\n",
      "Input data shape: (90, 5)\n",
      "x_train data shape: (72, 5)\n",
      "x_test data shape: (18, 5)\n",
      "--------------------------------\n",
      "y data shape (90,)\n",
      "y_train data shape: (72,)\n",
      "y_test data shape: (18,)\n"
     ]
    }
   ],
   "source": [
    "print(\"total dataframe shape:\",df.shape)\n",
    "print(\"Input data shape:\",x.shape)\n",
    "print(\"x_train data shape:\",x_train.shape)\n",
    "print(\"x_test data shape:\",x_test.shape)\n",
    "print(\"--------------------------------\")\n",
    "print(\"y data shape\",y.shape)\n",
    "print(\"y_train data shape:\",y_train.shape)\n",
    "print(\"y_test data shape:\",y_test.shape)"
   ]
  },
  {
   "cell_type": "code",
   "execution_count": null,
   "id": "967ef282-cb04-498c-913e-a489359ab609",
   "metadata": {},
   "outputs": [],
   "source": []
  }
 ],
 "metadata": {
  "kernelspec": {
   "display_name": "Python 3 (ipykernel)",
   "language": "python",
   "name": "python3"
  },
  "language_info": {
   "codemirror_mode": {
    "name": "ipython",
    "version": 3
   },
   "file_extension": ".py",
   "mimetype": "text/x-python",
   "name": "python",
   "nbconvert_exporter": "python",
   "pygments_lexer": "ipython3",
   "version": "3.11.7"
  }
 },
 "nbformat": 4,
 "nbformat_minor": 5
}
